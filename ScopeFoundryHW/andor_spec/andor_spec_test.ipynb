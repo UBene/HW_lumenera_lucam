{
 "cells": [
  {
   "cell_type": "code",
   "execution_count": 1,
   "metadata": {},
   "outputs": [],
   "source": [
    "from ctypes import c_int, c_uint, c_byte, c_ubyte, c_short, c_double, c_float, c_long\n",
    "from ctypes import pointer, byref, windll, cdll, create_string_buffer\n",
    "\n",
    "lib0 = windll.LoadLibrary( r\"C:\\Program Files\\Andor SDK\\Shamrock64\\atshamrock.dll\")\n",
    "andorlibpath = r\"C:\\Program Files\\Andor SDK\\Shamrock64\\ShamrockCIF.dll\"\n",
    "lib = windll.LoadLibrary(andorlibpath)\n"
   ]
  },
  {
   "cell_type": "code",
   "execution_count": 2,
   "metadata": {
    "collapsed": true
   },
   "outputs": [],
   "source": [
    "SHAMROCK_COMMUNICATION_ERROR = 20201\n",
    "SHAMROCK_SUCCESS = 20202\n",
    "SHAMROCK_P1INVALID = 20266\n",
    "SHAMROCK_P2INVALID = 20267\n",
    "SHAMROCK_P3INVALID = 20268\n",
    "SHAMROCK_P4INVALID = 20269\n",
    "SHAMROCK_P5INVALID = 20270\n",
    "SHAMROCK_NOT_INITIALIZED = 20275\n",
    "SHAMROCK_NOT_AVAILABLE = 20292\n",
    "\n",
    "SHAMROCK_ACCESSORYMIN = 0\n",
    "SHAMROCK_ACCESSORYMAX = 1\n",
    "SHAMROCK_FILTERMIN = 1\n",
    "SHAMROCK_FILTERMAX = 6\n",
    "SHAMROCK_TURRETMIN = 1\n",
    "SHAMROCK_TURRETMAX = 3\n",
    "SHAMROCK_GRATINGMIN = 1\n",
    "SHAMROCK_SLITWIDTHMIN = 10\n",
    "SHAMROCK_SLITWIDTHMAX = 2500\n",
    "SHAMROCK_I24SLITWIDTHMAX = 24000\n",
    "SHAMROCK_SHUTTERMODEMIN = 0\n",
    "SHAMROCK_SHUTTERMODEMAX = 1\n",
    "SHAMROCK_DET_OFFSET_MIN = -240000\n",
    "SHAMROCK_DET_OFFSET_MAX = 240000\n",
    "SHAMROCK_GRAT_OFFSET_MIN = -20000\n",
    "SHAMROCK_GRAT_OFFSET_MAX = 20000\n",
    "\n",
    "SHAMROCK_SLIT_INDEX_MIN  = 1\n",
    "SHAMROCK_SLIT_INDEX_MAX  = 4\n",
    "\n",
    "SHAMROCK_INPUT_SLIT_SIDE  = 1\n",
    "SHAMROCK_INPUT_SLIT_DIRECT  = 2\n",
    "SHAMROCK_OUTPUT_SLIT_SIDE  = 3\n",
    "SHAMROCK_OUTPUT_SLIT_DIRECT = 4\n",
    "\n",
    "SHAMROCK_FLIPPER_INDEX_MIN  = 1\n",
    "SHAMROCK_FLIPPER_INDEX_MAX  = 2\n",
    "SHAMROCK_PORTMIN = 0\n",
    "SHAMROCK_PORTMAX = 1\n",
    "\n",
    "SHAMROCK_INPUT_FLIPPER   = 1\n",
    "SHAMROCK_OUTPUT_FLIPPER = 2\n",
    "SHAMROCK_DIRECT_PORT = 0\n",
    "SHAMROCK_SIDE_PORT = 1\n",
    "\n",
    "SHAMROCK_ERRORLENGTH = 64\n",
    "\n",
    "consts_by_num = dict()\n",
    "for name,num in list(locals().items()):\n",
    "    if name.startswith(\"SHAMROCK_\"):\n",
    "        consts_by_num[num] = name"
   ]
  },
  {
   "cell_type": "code",
   "execution_count": 3,
   "metadata": {
    "collapsed": true
   },
   "outputs": [],
   "source": [
    "def _err(retval):\n",
    "    if retval == SHAMROCK_SUCCESS:\n",
    "        return retval\n",
    "    else:\n",
    "        err_name = consts_by_num.get(retval)\n",
    "        raise IOError( \"Andor SHAMROCK Failure {}: {}\".format(retval, err_name))\n"
   ]
  },
  {
   "cell_type": "code",
   "execution_count": 21,
   "metadata": {},
   "outputs": [
    {
     "data": {
      "text/plain": [
       "20202"
      ]
     },
     "execution_count": 21,
     "metadata": {},
     "output_type": "execute_result"
    }
   ],
   "source": [
    "_err(lib.ShamrockInitialize(\"\"))"
   ]
  },
  {
   "cell_type": "code",
   "execution_count": 22,
   "metadata": {},
   "outputs": [
    {
     "name": "stdout",
     "output_type": "stream",
     "text": [
      "0 b'KY-3557'\n",
      "1 b'P)B\\x17\\xfd\\x7f'\n"
     ]
    }
   ],
   "source": [
    "n_dev = c_int()\n",
    "_err(lib.ShamrockGetNumberDevices(byref(n_dev)))\n",
    "n = n_dev.value\n",
    "\n",
    "x = create_string_buffer(64)\n",
    "\n",
    "for i in range(n):\n",
    "    _err(lib.ShamrockGetSerialNumber(i,x))\n",
    "    print(i,x.value)\n",
    "    "
   ]
  },
  {
   "cell_type": "code",
   "execution_count": 23,
   "metadata": {},
   "outputs": [
    {
     "name": "stdout",
     "output_type": "stream",
     "text": [
      "ShamrockEepromGetOpticalParams 0.3293119966983795 -10.349100112915039 -5.924580097198486\n"
     ]
    }
   ],
   "source": [
    "dev_id = 0\n",
    "\n",
    "f = c_float()\n",
    "ang = c_float()\n",
    "tilt = c_float()\n",
    "\n",
    "_err(lib.ShamrockEepromGetOpticalParams(dev_id, byref(f), byref(ang), byref(tilt)))\n",
    "\n",
    "print(\"ShamrockEepromGetOpticalParams\", f.value, ang.value, tilt.value)"
   ]
  },
  {
   "cell_type": "code",
   "execution_count": 24,
   "metadata": {},
   "outputs": [
    {
     "data": {
      "text/plain": [
       "1"
      ]
     },
     "execution_count": 24,
     "metadata": {},
     "output_type": "execute_result"
    }
   ],
   "source": [
    "x = c_int()\n",
    "lib.ShamrockGetGrating(0, byref(x))\n",
    "x.value"
   ]
  },
  {
   "cell_type": "code",
   "execution_count": 34,
   "metadata": {},
   "outputs": [
    {
     "data": {
      "text/plain": [
       "20202"
      ]
     },
     "execution_count": 34,
     "metadata": {},
     "output_type": "execute_result"
    }
   ],
   "source": [
    "_err(lib.ShamrockSetWavelength(dev_id, c_float(500.)))"
   ]
  },
  {
   "cell_type": "code",
   "execution_count": 17,
   "metadata": {},
   "outputs": [
    {
     "data": {
      "text/plain": [
       "20202"
      ]
     },
     "execution_count": 17,
     "metadata": {},
     "output_type": "execute_result"
    }
   ],
   "source": [
    "lib.ShamrockClose()"
   ]
  },
  {
   "cell_type": "code",
   "execution_count": 35,
   "metadata": {},
   "outputs": [
    {
     "data": {
      "text/plain": [
       "500.0"
      ]
     },
     "execution_count": 35,
     "metadata": {},
     "output_type": "execute_result"
    }
   ],
   "source": [
    "x = c_float()\n",
    "lib.ShamrockGetWavelength(0, byref(x))\n",
    "x.value"
   ]
  },
  {
   "cell_type": "code",
   "execution_count": 40,
   "metadata": {},
   "outputs": [
    {
     "data": {
      "text/plain": [
       "20202"
      ]
     },
     "execution_count": 40,
     "metadata": {},
     "output_type": "execute_result"
    }
   ],
   "source": [
    "_err(lib.ShamrockSetGrating(dev_id, 2))"
   ]
  },
  {
   "cell_type": "code",
   "execution_count": null,
   "metadata": {
    "collapsed": true
   },
   "outputs": [],
   "source": []
  }
 ],
 "metadata": {
  "kernelspec": {
   "display_name": "Python 3",
   "language": "python",
   "name": "python3"
  },
  "language_info": {
   "codemirror_mode": {
    "name": "ipython",
    "version": 3
   },
   "file_extension": ".py",
   "mimetype": "text/x-python",
   "name": "python",
   "nbconvert_exporter": "python",
   "pygments_lexer": "ipython3",
   "version": "3.6.2"
  }
 },
 "nbformat": 4,
 "nbformat_minor": 2
}
