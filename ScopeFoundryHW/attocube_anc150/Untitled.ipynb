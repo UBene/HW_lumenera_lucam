{
 "cells": [
  {
   "cell_type": "code",
   "execution_count": 1,
   "metadata": {
    "collapsed": false
   },
   "outputs": [],
   "source": [
    "from anc150_interface import ANC_Interface as ATTO"
   ]
  },
  {
   "cell_type": "code",
   "execution_count": 2,
   "metadata": {
    "collapsed": false
   },
   "outputs": [],
   "source": [
    "at = ATTO(port='com6',debug=True)"
   ]
  },
  {
   "cell_type": "code",
   "execution_count": 3,
   "metadata": {
    "collapsed": false
   },
   "outputs": [
    {
     "name": "stdout",
     "output_type": "stream",
     "text": [
      "[b'getm 1\\r\\n', b'mode = ext\\r\\n', b'OK\\r\\n', b'> ']\n",
      "2\n",
      "status: ok resp: [b'mode = ext\\r\\n']\n"
     ]
    },
    {
     "data": {
      "text/plain": [
       "'ext'"
      ]
     },
     "execution_count": 3,
     "metadata": {},
     "output_type": "execute_result"
    }
   ],
   "source": [
    "at.get_axis_mode(1)"
   ]
  },
  {
   "cell_type": "code",
   "execution_count": 4,
   "metadata": {
    "collapsed": false
   },
   "outputs": [
    {
     "name": "stdout",
     "output_type": "stream",
     "text": [
      "[b'setf 1 50\\r\\n', b'Axis in wrong mode\\r\\n', b'ERROR\\r\\n', b'> ']\n",
      "2\n",
      "status: err resp: [b'Axis in wrong mode\\r\\n']\n",
      "extract_value> Axis in wrong mode\n",
      "status: err\n",
      "(ask_cmd) end_resp: [b'Axis in wrong mode\\r\\n']\n"
     ]
    }
   ],
   "source": [
    "resp = at.set_frequency(1, 50)"
   ]
  },
  {
   "cell_type": "code",
   "execution_count": 5,
   "metadata": {
    "collapsed": false
   },
   "outputs": [],
   "source": [
    "resp = [b'setf 1 50\\r\\n', b'Axis in wrong mode\\r\\n', b'ERROR\\r\\n', b'> ']"
   ]
  },
  {
   "cell_type": "code",
   "execution_count": 6,
   "metadata": {
    "collapsed": false
   },
   "outputs": [
    {
     "name": "stdout",
     "output_type": "stream",
     "text": [
      "2\n",
      "status: err resp: [b'Axis in wrong mode\\r\\n']\n"
     ]
    },
    {
     "data": {
      "text/plain": [
       "('err', [b'Axis in wrong mode\\r\\n'])"
      ]
     },
     "execution_count": 6,
     "metadata": {},
     "output_type": "execute_result"
    }
   ],
   "source": [
    "at.parse_response(resp)"
   ]
  },
  {
   "cell_type": "code",
   "execution_count": 7,
   "metadata": {
    "collapsed": false
   },
   "outputs": [],
   "source": [
    "at.ser.close()"
   ]
  },
  {
   "cell_type": "code",
   "execution_count": 5,
   "metadata": {
    "collapsed": true
   },
   "outputs": [],
   "source": [
    "data = []"
   ]
  },
  {
   "cell_type": "code",
   "execution_count": 6,
   "metadata": {
    "collapsed": false
   },
   "outputs": [
    {
     "data": {
      "text/plain": [
       "0"
      ]
     },
     "execution_count": 6,
     "metadata": {},
     "output_type": "execute_result"
    }
   ],
   "source": [
    "len(data)"
   ]
  },
  {
   "cell_type": "code",
   "execution_count": 6,
   "metadata": {
    "collapsed": false
   },
   "outputs": [
    {
     "name": "stdout",
     "output_type": "stream",
     "text": [
      "parse_resp data: [b'setm 1 ext\\r\\n', b'OK\\r\\n', b'> ']\n",
      "status: ok resp: []\n",
      "status: None\n",
      "print_resp: None\n"
     ]
    }
   ],
   "source": [
    "at.set_axis_mode(1, 'ext')"
   ]
  },
  {
   "cell_type": "code",
   "execution_count": null,
   "metadata": {
    "collapsed": true
   },
   "outputs": [],
   "source": []
  }
 ],
 "metadata": {
  "kernelspec": {
   "display_name": "Python 3",
   "language": "python",
   "name": "python3"
  },
  "language_info": {
   "codemirror_mode": {
    "name": "ipython",
    "version": 3
   },
   "file_extension": ".py",
   "mimetype": "text/x-python",
   "name": "python",
   "nbconvert_exporter": "python",
   "pygments_lexer": "ipython3",
   "version": "3.6.0"
  }
 },
 "nbformat": 4,
 "nbformat_minor": 2
}
