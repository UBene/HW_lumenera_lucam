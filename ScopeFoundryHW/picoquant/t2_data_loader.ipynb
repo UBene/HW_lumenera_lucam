{
 "cells": [
  {
   "cell_type": "code",
   "execution_count": 1,
   "metadata": {},
   "outputs": [],
   "source": [
    "import h5py\n",
    "import numpy as np\n",
    "import matplotlib.pylab as plt"
   ]
  },
  {
   "cell_type": "code",
   "execution_count": 2,
   "metadata": {},
   "outputs": [],
   "source": [
    "class T2DataLoader:\n",
    "\n",
    "    SENTINEL = 0b11111110000000000000000000000001\n",
    "\n",
    "    def __init__(self, file_name, version=2) -> None:\n",
    "        \n",
    "        if version == 1:\n",
    "            self.T2WRAPAROUND = 33552000\n",
    "        elif version == 2:\n",
    "            self.T2WRAPAROUND = 33552000  #% = 2^25  IMPORTANT! THIS IS NEW IN FORMAT V2.0\n",
    "\n",
    "        with h5py.File(file_name) as f:\n",
    "            event_times = np.concatenate(f['measurement/timeharp_260_t2/event_times'][:])[:]\n",
    "\n",
    "        sync_flags = 1<<31\n",
    "        sync_mask = np.argwhere(np.bitwise_and(event_times, sync_flags))\n",
    "        self.sync_times = self.clean_sentinels(event_times[sync_mask].astype(np.uint64), sync_flags)\n",
    "\n",
    "        chan0_flags = 1<<29\n",
    "        chan0_mask = np.argwhere(np.bitwise_and(event_times, chan0_flags))\n",
    "        self.chan0_times = self.clean_sentinels(event_times[chan0_mask].astype(np.uint64), chan0_flags)\n",
    "\n",
    "        chan1_flags = 1<<28\n",
    "        chan1_mask = np.argwhere(np.bitwise_and(event_times, chan1_flags))\n",
    "        self.chan1_times = self.clean_sentinels(event_times[chan1_mask].astype(np.uint64), chan1_flags)\n",
    "\n",
    "    def clean_sentinels(self, times, flags):\n",
    "        senti_mask = times == self.SENTINEL\n",
    "        senti_indices = np.argwhere(senti_mask)\n",
    "        times -= flags\n",
    "\n",
    "        for i in range(1, len(senti_indices)):\n",
    "            s = senti_indices[i-1][0]+1\n",
    "            e = senti_indices[i][0]\n",
    "            times[s:e] = times[s:e] + ((i)*self.T2WRAPAROUND)\n",
    "        times[e+1:] = times[e+1:] + (i+1)*self.T2WRAPAROUND\n",
    "        return times[np.logical_not(senti_mask)]\n",
    "        "
   ]
  },
  {
   "cell_type": "code",
   "execution_count": 11,
   "metadata": {},
   "outputs": [],
   "source": [
    "file_name = '230114_223559_timeharp_260_t2.h5'\n",
    "file_name = '230114_224612_timeharp_260_t2.h5'\n",
    "file_name = '230115_000335_timeharp_260_t2.h5'\n",
    "\n",
    "T2Data = T2DataLoader(file_name)\n",
    "\n"
   ]
  },
  {
   "cell_type": "code",
   "execution_count": 12,
   "metadata": {},
   "outputs": [
    {
     "data": {
      "text/plain": [
       "[<matplotlib.lines.Line2D at 0x1c2800b7c40>]"
      ]
     },
     "execution_count": 12,
     "metadata": {},
     "output_type": "execute_result"
    },
    {
     "data": {
      "image/png": "[encoded data removed]",
      "text/plain": [
       "<Figure size 432x288 with 1 Axes>"
      ]
     },
     "metadata": {
      "needs_background": "light"
     },
     "output_type": "display_data"
    }
   ],
   "source": [
    "plt.figure()\n",
    "plt.plot(T2Data.sync_times[:])"
   ]
  },
  {
   "cell_type": "code",
   "execution_count": 17,
   "metadata": {},
   "outputs": [
    {
     "data": {
      "text/plain": [
       "23.170262812252613"
      ]
     },
     "execution_count": 17,
     "metadata": {},
     "output_type": "execute_result"
    }
   ],
   "source": [
    "np.log2(9439394)"
   ]
  },
  {
   "cell_type": "code",
   "execution_count": null,
   "metadata": {},
   "outputs": [],
   "source": []
  }
 ],
 "metadata": {
  "kernelspec": {
   "display_name": "analysis_3104_20220506",
   "language": "python",
   "name": "python3"
  },
  "language_info": {
   "codemirror_mode": {
    "name": "ipython",
    "version": 3
   },
   "file_extension": ".py",
   "mimetype": "text/x-python",
   "name": "python",
   "nbconvert_exporter": "python",
   "pygments_lexer": "ipython3",
   "version": "3.10.4"
  },
  "orig_nbformat": 4,
  "vscode": {
   "interpreter": {
    "hash": "07d1bf0c3f059ae55083d36989994c65366ea93413d8003a9bfa47d8c7173d26"
   }
  }
 },
 "nbformat": 4,
 "nbformat_minor": 2
}
