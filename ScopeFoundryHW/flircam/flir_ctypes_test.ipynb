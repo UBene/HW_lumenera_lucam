{
 "cells": [
  {
   "cell_type": "code",
   "execution_count": 2,
   "metadata": {},
   "outputs": [],
   "source": [
    "%matplotlib notebook\n",
    "import numpy as np\n",
    "import matplotlib.pyplot as plt\n",
    "import ctypes\n",
    "from ctypes import byref, c_void_p, c_int, c_size_t, c_int64, c_uint, c_uint8, c_uint16"
   ]
  },
  {
   "cell_type": "code",
   "execution_count": 2,
   "metadata": {},
   "outputs": [],
   "source": [
    "lib = ctypes.cdll.LoadLibrary(r\"C:\\Program Files\\Point Grey Research\\Spinnaker\\bin64\\vs2015\\SpinnakerC_v140.dll\")"
   ]
  },
  {
   "cell_type": "code",
   "execution_count": 3,
   "metadata": {},
   "outputs": [
    {
     "data": {
      "text/plain": [
       "c_void_p(9300848L)"
      ]
     },
     "execution_count": 3,
     "metadata": {},
     "output_type": "execute_result"
    }
   ],
   "source": [
    "hSystem = ctypes.c_void_p()\n",
    "\n",
    "err = lib.spinSystemGetInstance(ctypes.byref(hSystem))\n",
    "hSystem"
   ]
  },
  {
   "cell_type": "code",
   "execution_count": 4,
   "metadata": {},
   "outputs": [
    {
     "name": "stdout",
     "output_type": "stream",
     "text": [
      "(0, c_void_p(9469248L))\n",
      "(0, c_void_p(9469248L))\n"
     ]
    }
   ],
   "source": [
    "hCameraList = c_void_p()\n",
    "err = lib.spinCameraListCreateEmpty(byref(hCameraList))\n",
    "print(err, hCameraList)\n",
    "err = lib.spinSystemGetCameras(hSystem, hCameraList)\n",
    "print(err, hCameraList)\n"
   ]
  },
  {
   "cell_type": "code",
   "execution_count": 5,
   "metadata": {},
   "outputs": [
    {
     "name": "stdout",
     "output_type": "stream",
     "text": [
      "(0, 1L)\n"
     ]
    }
   ],
   "source": [
    "# Retrieve number of cameras\n",
    "numCameras = c_size_t(0)\n",
    "\n",
    "err = lib.spinCameraListGetSize(hCameraList, byref(numCameras))\n",
    "print(err, numCameras.value)"
   ]
  },
  {
   "cell_type": "code",
   "execution_count": 6,
   "metadata": {},
   "outputs": [
    {
     "name": "stdout",
     "output_type": "stream",
     "text": [
      "(0, c_void_p(191022672L))\n"
     ]
    }
   ],
   "source": [
    "#spinCamera hCamera = NULL;\n",
    "hCamera = c_void_p()\n",
    "\n",
    "err = lib.spinCameraListGet(hCameraList, 0, byref(hCamera))\n",
    "print(err, hCamera)\n"
   ]
  },
  {
   "cell_type": "code",
   "execution_count": 7,
   "metadata": {},
   "outputs": [
    {
     "name": "stdout",
     "output_type": "stream",
     "text": [
      "(0, c_void_p(9844976L))\n"
     ]
    }
   ],
   "source": [
    "hNodeMapTLDevice = c_void_p()\n",
    "err = lib.spinCameraGetTLDeviceNodeMap(hCamera, byref(hNodeMapTLDevice))\n",
    "print(err, hNodeMapTLDevice)"
   ]
  },
  {
   "cell_type": "code",
   "execution_count": 8,
   "metadata": {},
   "outputs": [
    {
     "name": "stdout",
     "output_type": "stream",
     "text": [
      "0\n"
     ]
    }
   ],
   "source": [
    "err = lib.spinCameraInit(hCamera)\n",
    "print(err)"
   ]
  },
  {
   "cell_type": "code",
   "execution_count": 9,
   "metadata": {},
   "outputs": [
    {
     "name": "stdout",
     "output_type": "stream",
     "text": [
      "(0, c_void_p(213094976L))\n"
     ]
    }
   ],
   "source": [
    "hNodeMap = c_void_p()\n",
    "\n",
    "err = lib.spinCameraGetNodeMap(hCamera, byref(hNodeMap))\n",
    "print(err, hNodeMap)"
   ]
  },
  {
   "cell_type": "code",
   "execution_count": 10,
   "metadata": {},
   "outputs": [],
   "source": [
    "def get_enum_int_by_name(hEnumNode, name):\n",
    "    hEnumEntry = c_void_p()\n",
    "    enumInt = c_int64()\n",
    "    err = lib.spinEnumerationGetEntryByName(hEnumNode, name, byref(hEnumEntry))\n",
    "    print(err)\n",
    "    assert err == 0\n",
    "    err = lib.spinEnumerationEntryGetIntValue(hEnumEntry, byref(enumInt))\n",
    "    assert err == 0\n",
    "    return enumInt.value"
   ]
  },
  {
   "cell_type": "code",
   "execution_count": 11,
   "metadata": {},
   "outputs": [
    {
     "name": "stdout",
     "output_type": "stream",
     "text": [
      "(0, c_void_p(213094720L))\n",
      "0\n",
      "0\n"
     ]
    }
   ],
   "source": [
    "hAcquisitionMode = c_void_p()\n",
    "err = lib.spinNodeMapGetNode(hNodeMap, b\"AcquisitionMode\", byref(hAcquisitionMode))\n",
    "print(err, hAcquisitionMode)\n",
    "err = lib.spinEnumerationSetIntValue(hAcquisitionMode, get_enum_int_by_name(hAcquisitionMode, b'Continuous'))\n",
    "print(err)"
   ]
  },
  {
   "cell_type": "code",
   "execution_count": 12,
   "metadata": {},
   "outputs": [
    {
     "name": "stdout",
     "output_type": "stream",
     "text": [
      "0\n"
     ]
    }
   ],
   "source": [
    "err = lib.spinCameraBeginAcquisition(hCamera)\n",
    "print(err)"
   ]
  },
  {
   "cell_type": "code",
   "execution_count": 13,
   "metadata": {},
   "outputs": [
    {
     "name": "stdout",
     "output_type": "stream",
     "text": [
      "(0, c_void_p(192933520L))\n",
      "(0, c_bool(True))\n"
     ]
    }
   ],
   "source": [
    "hResultImage = c_void_p()\n",
    "err = lib.spinCameraGetNextImage(hCamera, byref(hResultImage))\n",
    "print(err, hResultImage)\n",
    "isIncomplete = ctypes.c_bool(False)\n",
    "err = lib.spinImageIsIncomplete(hResultImage, byref(isIncomplete))\n",
    "print(err, isIncomplete)\n"
   ]
  },
  {
   "cell_type": "code",
   "execution_count": 14,
   "metadata": {},
   "outputs": [
    {
     "name": "stdout",
     "output_type": "stream",
     "text": [
      "(0, 2109765568L)\n",
      "(0, 2067822400L)\n"
     ]
    }
   ],
   "source": [
    "width = ctypes.c_uint(0)\n",
    "height = ctypes.c_uint(0)\n",
    "\n",
    "err = lib.spinImageGetWidth(hResultImage,byref(width) )\n",
    "print(err, width.value,)\n",
    "err = lib.spinImageGetHeight(hResultImage,byref(height) )\n",
    "print(err, height.value,)"
   ]
  },
  {
   "cell_type": "code",
   "execution_count": 18,
   "metadata": {},
   "outputs": [
    {
     "name": "stdout",
     "output_type": "stream",
     "text": [
      "(0, c_void_p(192931920L))\n",
      "-1001\n"
     ]
    }
   ],
   "source": [
    "hConvertedImage = c_void_p()\n",
    "err = lib.spinImageCreateEmpty(byref(hConvertedImage))\n",
    "print(err, hConvertedImage)\n",
    "err = lib.spinImageConvert(hResultImage, 0, hConvertedImage)\n",
    "print(err)\n"
   ]
  },
  {
   "cell_type": "code",
   "execution_count": 19,
   "metadata": {},
   "outputs": [
    {
     "name": "stdout",
     "output_type": "stream",
     "text": [
      "-1002\n"
     ]
    }
   ],
   "source": [
    "err = lib.spinImageSave(hConvertedImage, b\"test.jpg\", -1)\n",
    "print(err)"
   ]
  },
  {
   "cell_type": "code",
   "execution_count": null,
   "metadata": {},
   "outputs": [],
   "source": [
    "asdf = ctypes.c_uint64()\n",
    "ctypes.sizeof(asdf)"
   ]
  },
  {
   "cell_type": "code",
   "execution_count": null,
   "metadata": {},
   "outputs": [],
   "source": [
    "lib.spinImageGetData.argtypes = (c_void_p,ctypes.POINTER(ctypes.POINTER(c_uint8)))\n",
    "lib.spinImageGetData.restype = c_uint8\n",
    "ppData = ctypes.POINTER(c_uint8)()\n",
    "pSize = c_uint(0)\n",
    "print(lib.spinImageGetData(hConvertedImage, ppData))\n",
    "print(lib.spinImageGetBufferSize(hConvertedImage, byref(pSize)))"
   ]
  },
  {
   "cell_type": "code",
   "execution_count": null,
   "metadata": {},
   "outputs": [],
   "source": [
    "data = np.ctypeslib.as_array(ppData,(1920,1200))"
   ]
  },
  {
   "cell_type": "code",
   "execution_count": null,
   "metadata": {},
   "outputs": [],
   "source": [
    "data"
   ]
  },
  {
   "cell_type": "code",
   "execution_count": null,
   "metadata": {},
   "outputs": [],
   "source": [
    "X,Y = np.meshgrid(np.arange(0,1200), np.arange(0,1920))\n",
    "plt.pcolormesh(X,Y,data, cmap='gray')\n",
    "plt.colorbar()\n",
    "\n",
    "plt.axis('tight')\n",
    "plt.axis('equal')"
   ]
  },
  {
   "cell_type": "code",
   "execution_count": null,
   "metadata": {},
   "outputs": [],
   "source": [
    "err = lib.spinImageDestroy(hConvertedImage)\n",
    "print(err)"
   ]
  },
  {
   "cell_type": "code",
   "execution_count": null,
   "metadata": {},
   "outputs": [],
   "source": [
    "err = lib.spinImageRelease(hResultImage)\n",
    "print(err)"
   ]
  },
  {
   "cell_type": "code",
   "execution_count": null,
   "metadata": {},
   "outputs": [],
   "source": [
    "err = lib.spinCameraEndAcquisition(hCamera)\n",
    "print(err)"
   ]
  },
  {
   "cell_type": "code",
   "execution_count": null,
   "metadata": {},
   "outputs": [],
   "source": [
    "err = lib.spinCameraRelease(hCamera)\n",
    "print(err)"
   ]
  },
  {
   "cell_type": "code",
   "execution_count": null,
   "metadata": {},
   "outputs": [],
   "source": [
    "err = lib.spinCameraListClear(hCameraList)\n",
    "print(err)"
   ]
  },
  {
   "cell_type": "code",
   "execution_count": null,
   "metadata": {},
   "outputs": [],
   "source": [
    "err = lib.spinCameraListDestroy(hCameraList)\n",
    "print(err)"
   ]
  },
  {
   "cell_type": "code",
   "execution_count": null,
   "metadata": {},
   "outputs": [],
   "source": [
    "err = lib.spinSystemReleaseInstance(hSystem)\n",
    "print(err)"
   ]
  },
  {
   "cell_type": "code",
   "execution_count": null,
   "metadata": {},
   "outputs": [],
   "source": [
    "import numpy as np\n",
    "np.zeros(5)"
   ]
  },
  {
   "cell_type": "code",
   "execution_count": null,
   "metadata": {},
   "outputs": [],
   "source": [
    "import sys\n",
    "print(sys.path)"
   ]
  },
  {
   "cell_type": "code",
   "execution_count": null,
   "metadata": {},
   "outputs": [],
   "source": [
    "['C:\\\\Users\\\\lab\\\\Documents\\\\foundry_scope\\\\ScopeFoundryHW\\\\flircam', 'C:\\\\Users\\\\lab\\\\Documents\\\\foundry_scope', 'C:\\\\Users\\\\lab\\\\Anaconda3\\\\envs\\\\scopefoundry\\\\DLLs', 'C:\\\\Users\\\\lab\\\\Anaconda3\\\\envs\\\\scopefoundry\\\\lib', 'C:\\\\Users\\\\lab\\\\Anaconda3\\\\envs\\\\scopefoundry', 'C:\\\\Users\\\\lab\\\\Anaconda3\\\\envs\\\\scopefoundry\\\\lib\\\\site-packages', 'C:\\\\Users\\\\lab\\\\Anaconda3\\\\envs\\\\scopefoundry\\\\lib\\\\site-packages\\\\win32', 'C:\\\\Users\\\\lab\\\\Anaconda3\\\\envs\\\\scopefoundry\\\\lib\\\\site-packages\\\\win32\\\\lib', 'C:\\\\Users\\\\lab\\\\Anaconda3\\\\envs\\\\scopefoundry\\\\lib\\\\site-packages\\\\Pythonwin', 'C:\\\\Users\\\\lab\\\\Anaconda3\\\\envs\\\\scopefoundry\\\\python37.zip']\n"
   ]
  },
  {
   "cell_type": "code",
   "execution_count": 4,
   "metadata": {},
   "outputs": [
    {
     "ename": "AttributeError",
     "evalue": "module 'numpy.ctypeslib' has no attribute '_get_typecodes'",
     "output_type": "error",
     "traceback": [
      "\u001b[1;31m---------------------------------------------------------------------------\u001b[0m",
      "\u001b[1;31mAttributeError\u001b[0m                            Traceback (most recent call last)",
      "\u001b[1;32m<ipython-input-4-62cb0d0701d8>\u001b[0m in \u001b[0;36m<module>\u001b[1;34m\u001b[0m\n\u001b[0;32m      1\u001b[0m \u001b[0masdf\u001b[0m \u001b[1;33m=\u001b[0m \u001b[0mnp\u001b[0m\u001b[1;33m.\u001b[0m\u001b[0marray\u001b[0m\u001b[1;33m(\u001b[0m\u001b[1;33m[\u001b[0m\u001b[1;36m2\u001b[0m\u001b[1;33m,\u001b[0m\u001b[1;36m3\u001b[0m\u001b[1;33m,\u001b[0m\u001b[1;36m4\u001b[0m\u001b[1;33m]\u001b[0m\u001b[1;33m,\u001b[0m \u001b[0mdtype\u001b[0m\u001b[1;33m=\u001b[0m\u001b[0mint\u001b[0m\u001b[1;33m)\u001b[0m\u001b[1;33m\u001b[0m\u001b[1;33m\u001b[0m\u001b[0m\n\u001b[1;32m----> 2\u001b[1;33m \u001b[0mtypecodes\u001b[0m \u001b[1;33m=\u001b[0m \u001b[0mnp\u001b[0m\u001b[1;33m.\u001b[0m\u001b[0mctypeslib\u001b[0m\u001b[1;33m.\u001b[0m\u001b[0m_get_typecodes\u001b[0m\u001b[1;33m(\u001b[0m\u001b[1;33m)\u001b[0m\u001b[1;33m\u001b[0m\u001b[1;33m\u001b[0m\u001b[0m\n\u001b[0m\u001b[0;32m      3\u001b[0m \u001b[0mtypecodes\u001b[0m\u001b[1;33m[\u001b[0m\u001b[0masdf\u001b[0m\u001b[1;33m.\u001b[0m\u001b[0m__array_interface__\u001b[0m\u001b[1;33m[\u001b[0m\u001b[1;34m'typestr'\u001b[0m\u001b[1;33m]\u001b[0m\u001b[1;33m]\u001b[0m\u001b[1;33m\u001b[0m\u001b[1;33m\u001b[0m\u001b[0m\n",
      "\u001b[1;31mAttributeError\u001b[0m: module 'numpy.ctypeslib' has no attribute '_get_typecodes'"
     ]
    }
   ],
   "source": [
    "asdf = np.array([2,3,4], dtype=int)\n",
    "typecodes = np.ctypeslib._get_typecodes()\n",
    "typecodes[asdf.__array_interface__['typestr']]"
   ]
  },
  {
   "cell_type": "code",
   "execution_count": null,
   "metadata": {},
   "outputs": [],
   "source": []
  }
 ],
 "metadata": {
  "kernelspec": {
   "display_name": "Python 3",
   "language": "python",
   "name": "python3"
  },
  "language_info": {
   "codemirror_mode": {
    "name": "ipython",
    "version": 3
   },
   "file_extension": ".py",
   "mimetype": "text/x-python",
   "name": "python",
   "nbconvert_exporter": "python",
   "pygments_lexer": "ipython3",
   "version": "3.7.2"
  }
 },
 "nbformat": 4,
 "nbformat_minor": 2
}
